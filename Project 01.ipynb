{
 "cells": [
  {
   "cell_type": "code",
   "execution_count": 1,
   "metadata": {},
   "outputs": [],
   "source": [
    "# Load libraries\n",
    "import pandas as pd\n",
    "import matplotlib.pyplot as plt\n",
    "import seaborn as sns\n",
    "import numpy as np\n",
    "from scipy.stats import ttest_ind"
   ]
  },
  {
   "cell_type": "code",
   "execution_count": 2,
   "metadata": {},
   "outputs": [],
   "source": [
    "us_state_abbrev = {\n",
    "    'Alabama': 'AL',\n",
    "    'Alaska': 'AK',\n",
    "    'American Samoa': 'AS',\n",
    "    'Arizona': 'AZ',\n",
    "    'Arkansas': 'AR',\n",
    "    'California': 'CA',\n",
    "    'Colorado': 'CO',\n",
    "    'Connecticut': 'CT',\n",
    "    'Delaware': 'DE',\n",
    "    'District of Columbia': 'DC',\n",
    "    'Florida': 'FL',\n",
    "    'Georgia': 'GA',\n",
    "    'Guam': 'GU',\n",
    "    'Hawaii': 'HI',\n",
    "    'Idaho': 'ID',\n",
    "    'Illinois': 'IL',\n",
    "    'Indiana': 'IN',\n",
    "    'Iowa': 'IA',\n",
    "    'Kansas': 'KS',\n",
    "    'Kentucky': 'KY',\n",
    "    'Louisiana': 'LA',\n",
    "    'Maine': 'ME',\n",
    "    'Maryland': 'MD',\n",
    "    'Massachusetts': 'MA',\n",
    "    'Michigan': 'MI',\n",
    "    'Minnesota': 'MN',\n",
    "    'Mississippi': 'MS',\n",
    "    'Missouri': 'MO',\n",
    "    'Montana': 'MT',\n",
    "    'Nebraska': 'NE',\n",
    "    'Nevada': 'NV',\n",
    "    'New Hampshire': 'NH',\n",
    "    'New Jersey': 'NJ',\n",
    "    'New Mexico': 'NM',\n",
    "    'New York': 'NY',\n",
    "    'North Carolina': 'NC',\n",
    "    'North Dakota': 'ND',\n",
    "    'Northern Mariana Islands':'MP',\n",
    "    'Ohio': 'OH',\n",
    "    'Oklahoma': 'OK',\n",
    "    'Oregon': 'OR',\n",
    "    'Pennsylvania': 'PA',\n",
    "    'Puerto Rico': 'PR',\n",
    "    'Rhode Island': 'RI',\n",
    "    'South Carolina': 'SC',\n",
    "    'South Dakota': 'SD',\n",
    "    'Tennessee': 'TN',\n",
    "    'Texas': 'TX',\n",
    "    'Utah': 'UT',\n",
    "    'Vermont': 'VT',\n",
    "    'Virgin Islands': 'VI',\n",
    "    'Virginia': 'VA',\n",
    "    'Washington': 'WA',\n",
    "    'West Virginia': 'WV',\n",
    "    'Wisconsin': 'WI',\n",
    "    'Wyoming': 'WY'\n",
    "}"
   ]
  },
  {
   "cell_type": "code",
   "execution_count": 3,
   "metadata": {},
   "outputs": [],
   "source": [
    "# Load dataset\n",
    "demographics_data = pd.read_csv('demographics_train.csv')\n",
    "election_data = pd.read_csv('election_train.csv')"
   ]
  },
  {
   "cell_type": "code",
   "execution_count": 4,
   "metadata": {},
   "outputs": [],
   "source": [
    "# demographics_data.shape"
   ]
  },
  {
   "cell_type": "code",
   "execution_count": 5,
   "metadata": {},
   "outputs": [],
   "source": [
    "# election_data.shape"
   ]
  },
  {
   "cell_type": "code",
   "execution_count": 6,
   "metadata": {},
   "outputs": [],
   "source": [
    "# Map State names to abbreviations\n",
    "demographics_data['State'] = demographics_data['State'].map(us_state_abbrev)"
   ]
  },
  {
   "cell_type": "code",
   "execution_count": null,
   "metadata": {},
   "outputs": [],
   "source": []
  },
  {
   "cell_type": "code",
   "execution_count": 7,
   "metadata": {},
   "outputs": [],
   "source": [
    "# Convert all counties to lowercase\n",
    "demographics_data['County'] = demographics_data['County'].str.lower()\n",
    "election_data['County'] = election_data['County'].str.lower()"
   ]
  },
  {
   "cell_type": "code",
   "execution_count": 8,
   "metadata": {},
   "outputs": [],
   "source": [
    "# Sort the data by State, County for cleaner output\n",
    "demographics_data = demographics_data.sort_values(by=['State','County'])\n",
    "election_data = election_data.sort_values(by=['State','County'])"
   ]
  },
  {
   "cell_type": "code",
   "execution_count": 9,
   "metadata": {},
   "outputs": [
    {
     "name": "stderr",
     "output_type": "stream",
     "text": [
      "c:\\users\\shawn john\\appdata\\local\\programs\\python\\python37\\lib\\site-packages\\ipykernel_launcher.py:3: SettingWithCopyWarning: \n",
      "A value is trying to be set on a copy of a slice from a DataFrame\n",
      "\n",
      "See the caveats in the documentation: https://pandas.pydata.org/pandas-docs/stable/user_guide/indexing.html#returning-a-view-versus-a-copy\n",
      "  This is separate from the ipykernel package so we can avoid doing imports until\n"
     ]
    }
   ],
   "source": [
    "# Remove 'County' from county names\n",
    "for i in range(len(election_data['County'])):\n",
    "    election_data['County'][i] = election_data['County'][i].replace(' county', '')"
   ]
  },
  {
   "cell_type": "code",
   "execution_count": null,
   "metadata": {},
   "outputs": [],
   "source": []
  },
  {
   "cell_type": "code",
   "execution_count": 20,
   "metadata": {},
   "outputs": [],
   "source": [
    "# Task 1"
   ]
  },
  {
   "cell_type": "code",
   "execution_count": 21,
   "metadata": {},
   "outputs": [],
   "source": [
    "election_wide_data = pd.pivot_table(election_data, index=['Year','State','County','Office'], columns='Party', values='Votes').reset_index()"
   ]
  },
  {
   "cell_type": "code",
   "execution_count": 22,
   "metadata": {},
   "outputs": [
    {
     "data": {
      "text/plain": [
       "(1205, 6)"
      ]
     },
     "execution_count": 22,
     "metadata": {},
     "output_type": "execute_result"
    }
   ],
   "source": [
    "election_wide_data.shape"
   ]
  },
  {
   "cell_type": "code",
   "execution_count": null,
   "metadata": {},
   "outputs": [],
   "source": []
  },
  {
   "cell_type": "code",
   "execution_count": null,
   "metadata": {},
   "outputs": [],
   "source": []
  },
  {
   "cell_type": "code",
   "execution_count": null,
   "metadata": {},
   "outputs": [],
   "source": []
  },
  {
   "cell_type": "code",
   "execution_count": 23,
   "metadata": {},
   "outputs": [],
   "source": [
    "# Task 2"
   ]
  },
  {
   "cell_type": "code",
   "execution_count": 24,
   "metadata": {},
   "outputs": [],
   "source": [
    "merged_data = pd.merge(demographics_data, election_wide_data, left_index=True, on = ['State','County'], how='inner');"
   ]
  },
  {
   "cell_type": "code",
   "execution_count": 25,
   "metadata": {},
   "outputs": [
    {
     "data": {
      "text/html": [
       "<div>\n",
       "<style scoped>\n",
       "    .dataframe tbody tr th:only-of-type {\n",
       "        vertical-align: middle;\n",
       "    }\n",
       "\n",
       "    .dataframe tbody tr th {\n",
       "        vertical-align: top;\n",
       "    }\n",
       "\n",
       "    .dataframe thead th {\n",
       "        text-align: right;\n",
       "    }\n",
       "</style>\n",
       "<table border=\"1\" class=\"dataframe\">\n",
       "  <thead>\n",
       "    <tr style=\"text-align: right;\">\n",
       "      <th></th>\n",
       "      <th>State</th>\n",
       "      <th>County</th>\n",
       "      <th>FIPS</th>\n",
       "      <th>Total Population</th>\n",
       "      <th>Citizen Voting-Age Population</th>\n",
       "      <th>Percent White, not Hispanic or Latino</th>\n",
       "      <th>Percent Black, not Hispanic or Latino</th>\n",
       "      <th>Percent Hispanic or Latino</th>\n",
       "      <th>Percent Foreign Born</th>\n",
       "      <th>Percent Female</th>\n",
       "      <th>...</th>\n",
       "      <th>Percent Age 65 and Older</th>\n",
       "      <th>Median Household Income</th>\n",
       "      <th>Percent Unemployed</th>\n",
       "      <th>Percent Less than High School Degree</th>\n",
       "      <th>Percent Less than Bachelor's Degree</th>\n",
       "      <th>Percent Rural</th>\n",
       "      <th>Year</th>\n",
       "      <th>Office</th>\n",
       "      <th>Democratic</th>\n",
       "      <th>Republican</th>\n",
       "    </tr>\n",
       "  </thead>\n",
       "  <tbody>\n",
       "    <tr>\n",
       "      <th>0</th>\n",
       "      <td>AZ</td>\n",
       "      <td>apache</td>\n",
       "      <td>4001</td>\n",
       "      <td>72346</td>\n",
       "      <td>0</td>\n",
       "      <td>18.571863</td>\n",
       "      <td>0.486551</td>\n",
       "      <td>5.947806</td>\n",
       "      <td>1.719515</td>\n",
       "      <td>50.598513</td>\n",
       "      <td>...</td>\n",
       "      <td>13.322091</td>\n",
       "      <td>32460</td>\n",
       "      <td>15.807433</td>\n",
       "      <td>21.758252</td>\n",
       "      <td>88.941063</td>\n",
       "      <td>74.061076</td>\n",
       "      <td>2018</td>\n",
       "      <td>US Senator</td>\n",
       "      <td>16298.0</td>\n",
       "      <td>7810.0</td>\n",
       "    </tr>\n",
       "    <tr>\n",
       "      <th>1</th>\n",
       "      <td>AZ</td>\n",
       "      <td>cochise</td>\n",
       "      <td>4003</td>\n",
       "      <td>128177</td>\n",
       "      <td>92915</td>\n",
       "      <td>56.299492</td>\n",
       "      <td>3.714395</td>\n",
       "      <td>34.403208</td>\n",
       "      <td>11.458374</td>\n",
       "      <td>49.069646</td>\n",
       "      <td>...</td>\n",
       "      <td>19.756275</td>\n",
       "      <td>45383</td>\n",
       "      <td>8.567108</td>\n",
       "      <td>13.409171</td>\n",
       "      <td>76.837055</td>\n",
       "      <td>36.301067</td>\n",
       "      <td>2018</td>\n",
       "      <td>US Senator</td>\n",
       "      <td>17383.0</td>\n",
       "      <td>26929.0</td>\n",
       "    </tr>\n",
       "    <tr>\n",
       "      <th>2</th>\n",
       "      <td>AZ</td>\n",
       "      <td>coconino</td>\n",
       "      <td>4005</td>\n",
       "      <td>138064</td>\n",
       "      <td>104265</td>\n",
       "      <td>54.619597</td>\n",
       "      <td>1.342855</td>\n",
       "      <td>13.711033</td>\n",
       "      <td>4.825298</td>\n",
       "      <td>50.581614</td>\n",
       "      <td>...</td>\n",
       "      <td>10.873943</td>\n",
       "      <td>51106</td>\n",
       "      <td>8.238305</td>\n",
       "      <td>11.085381</td>\n",
       "      <td>65.791439</td>\n",
       "      <td>31.466066</td>\n",
       "      <td>2018</td>\n",
       "      <td>US Senator</td>\n",
       "      <td>34240.0</td>\n",
       "      <td>19249.0</td>\n",
       "    </tr>\n",
       "    <tr>\n",
       "      <th>3</th>\n",
       "      <td>AZ</td>\n",
       "      <td>gila</td>\n",
       "      <td>4007</td>\n",
       "      <td>53179</td>\n",
       "      <td>0</td>\n",
       "      <td>63.222325</td>\n",
       "      <td>0.552850</td>\n",
       "      <td>18.548675</td>\n",
       "      <td>4.249798</td>\n",
       "      <td>50.296170</td>\n",
       "      <td>...</td>\n",
       "      <td>26.397638</td>\n",
       "      <td>40593</td>\n",
       "      <td>12.129932</td>\n",
       "      <td>15.729958</td>\n",
       "      <td>82.262624</td>\n",
       "      <td>41.062000</td>\n",
       "      <td>2018</td>\n",
       "      <td>US Senator</td>\n",
       "      <td>7643.0</td>\n",
       "      <td>12180.0</td>\n",
       "    </tr>\n",
       "    <tr>\n",
       "      <th>4</th>\n",
       "      <td>AZ</td>\n",
       "      <td>graham</td>\n",
       "      <td>4009</td>\n",
       "      <td>37529</td>\n",
       "      <td>0</td>\n",
       "      <td>51.461536</td>\n",
       "      <td>1.811932</td>\n",
       "      <td>32.097844</td>\n",
       "      <td>4.385942</td>\n",
       "      <td>46.313518</td>\n",
       "      <td>...</td>\n",
       "      <td>12.315809</td>\n",
       "      <td>47422</td>\n",
       "      <td>14.424104</td>\n",
       "      <td>14.580797</td>\n",
       "      <td>86.675944</td>\n",
       "      <td>46.437399</td>\n",
       "      <td>2018</td>\n",
       "      <td>US Senator</td>\n",
       "      <td>3368.0</td>\n",
       "      <td>6870.0</td>\n",
       "    </tr>\n",
       "  </tbody>\n",
       "</table>\n",
       "<p>5 rows × 21 columns</p>\n",
       "</div>"
      ],
      "text/plain": [
       "  State    County  FIPS  Total Population  Citizen Voting-Age Population  \\\n",
       "0    AZ    apache  4001             72346                              0   \n",
       "1    AZ   cochise  4003            128177                          92915   \n",
       "2    AZ  coconino  4005            138064                         104265   \n",
       "3    AZ      gila  4007             53179                              0   \n",
       "4    AZ    graham  4009             37529                              0   \n",
       "\n",
       "   Percent White, not Hispanic or Latino  \\\n",
       "0                              18.571863   \n",
       "1                              56.299492   \n",
       "2                              54.619597   \n",
       "3                              63.222325   \n",
       "4                              51.461536   \n",
       "\n",
       "   Percent Black, not Hispanic or Latino  Percent Hispanic or Latino  \\\n",
       "0                               0.486551                    5.947806   \n",
       "1                               3.714395                   34.403208   \n",
       "2                               1.342855                   13.711033   \n",
       "3                               0.552850                   18.548675   \n",
       "4                               1.811932                   32.097844   \n",
       "\n",
       "   Percent Foreign Born  Percent Female  ...  Percent Age 65 and Older  \\\n",
       "0              1.719515       50.598513  ...                 13.322091   \n",
       "1             11.458374       49.069646  ...                 19.756275   \n",
       "2              4.825298       50.581614  ...                 10.873943   \n",
       "3              4.249798       50.296170  ...                 26.397638   \n",
       "4              4.385942       46.313518  ...                 12.315809   \n",
       "\n",
       "   Median Household Income  Percent Unemployed  \\\n",
       "0                    32460           15.807433   \n",
       "1                    45383            8.567108   \n",
       "2                    51106            8.238305   \n",
       "3                    40593           12.129932   \n",
       "4                    47422           14.424104   \n",
       "\n",
       "   Percent Less than High School Degree  Percent Less than Bachelor's Degree  \\\n",
       "0                             21.758252                            88.941063   \n",
       "1                             13.409171                            76.837055   \n",
       "2                             11.085381                            65.791439   \n",
       "3                             15.729958                            82.262624   \n",
       "4                             14.580797                            86.675944   \n",
       "\n",
       "   Percent Rural  Year      Office Democratic  Republican  \n",
       "0      74.061076  2018  US Senator    16298.0      7810.0  \n",
       "1      36.301067  2018  US Senator    17383.0     26929.0  \n",
       "2      31.466066  2018  US Senator    34240.0     19249.0  \n",
       "3      41.062000  2018  US Senator     7643.0     12180.0  \n",
       "4      46.437399  2018  US Senator     3368.0      6870.0  \n",
       "\n",
       "[5 rows x 21 columns]"
      ]
     },
     "execution_count": 25,
     "metadata": {},
     "output_type": "execute_result"
    }
   ],
   "source": [
    "merged_data.head()"
   ]
  },
  {
   "cell_type": "code",
   "execution_count": 26,
   "metadata": {},
   "outputs": [
    {
     "data": {
      "text/plain": [
       "(1200, 21)"
      ]
     },
     "execution_count": 26,
     "metadata": {},
     "output_type": "execute_result"
    }
   ],
   "source": [
    "merged_data.shape"
   ]
  },
  {
   "cell_type": "code",
   "execution_count": null,
   "metadata": {},
   "outputs": [],
   "source": []
  },
  {
   "cell_type": "code",
   "execution_count": 27,
   "metadata": {},
   "outputs": [],
   "source": [
    "# Task 3"
   ]
  },
  {
   "cell_type": "code",
   "execution_count": 28,
   "metadata": {},
   "outputs": [
    {
     "name": "stdout",
     "output_type": "stream",
     "text": [
      "<class 'pandas.core.frame.DataFrame'>\n",
      "Int64Index: 1200 entries, 0 to 1204\n",
      "Data columns (total 21 columns):\n",
      " #   Column                                 Non-Null Count  Dtype  \n",
      "---  ------                                 --------------  -----  \n",
      " 0   State                                  1200 non-null   object \n",
      " 1   County                                 1200 non-null   object \n",
      " 2   FIPS                                   1200 non-null   int64  \n",
      " 3   Total Population                       1200 non-null   int64  \n",
      " 4   Citizen Voting-Age Population          1200 non-null   int64  \n",
      " 5   Percent White, not Hispanic or Latino  1200 non-null   float64\n",
      " 6   Percent Black, not Hispanic or Latino  1200 non-null   float64\n",
      " 7   Percent Hispanic or Latino             1200 non-null   float64\n",
      " 8   Percent Foreign Born                   1200 non-null   float64\n",
      " 9   Percent Female                         1200 non-null   float64\n",
      " 10  Percent Age 29 and Under               1200 non-null   float64\n",
      " 11  Percent Age 65 and Older               1200 non-null   float64\n",
      " 12  Median Household Income                1200 non-null   int64  \n",
      " 13  Percent Unemployed                     1200 non-null   float64\n",
      " 14  Percent Less than High School Degree   1200 non-null   float64\n",
      " 15  Percent Less than Bachelor's Degree    1200 non-null   float64\n",
      " 16  Percent Rural                          1200 non-null   float64\n",
      " 17  Year                                   1200 non-null   int64  \n",
      " 18  Office                                 1200 non-null   object \n",
      " 19  Democratic                             1197 non-null   float64\n",
      " 20  Republican                             1198 non-null   float64\n",
      "dtypes: float64(13), int64(5), object(3)\n",
      "memory usage: 206.2+ KB\n"
     ]
    }
   ],
   "source": [
    "merged_data.info()"
   ]
  },
  {
   "cell_type": "code",
   "execution_count": null,
   "metadata": {},
   "outputs": [],
   "source": []
  },
  {
   "cell_type": "code",
   "execution_count": null,
   "metadata": {},
   "outputs": [],
   "source": []
  },
  {
   "cell_type": "code",
   "execution_count": null,
   "metadata": {},
   "outputs": [],
   "source": []
  },
  {
   "cell_type": "code",
   "execution_count": null,
   "metadata": {},
   "outputs": [],
   "source": []
  },
  {
   "cell_type": "code",
   "execution_count": 29,
   "metadata": {},
   "outputs": [],
   "source": [
    "# Task 4"
   ]
  },
  {
   "cell_type": "code",
   "execution_count": 30,
   "metadata": {},
   "outputs": [
    {
     "data": {
      "text/plain": [
       "State                                    0\n",
       "County                                   0\n",
       "FIPS                                     0\n",
       "Total Population                         0\n",
       "Citizen Voting-Age Population            0\n",
       "Percent White, not Hispanic or Latino    0\n",
       "Percent Black, not Hispanic or Latino    0\n",
       "Percent Hispanic or Latino               0\n",
       "Percent Foreign Born                     0\n",
       "Percent Female                           0\n",
       "Percent Age 29 and Under                 0\n",
       "Percent Age 65 and Older                 0\n",
       "Median Household Income                  0\n",
       "Percent Unemployed                       0\n",
       "Percent Less than High School Degree     0\n",
       "Percent Less than Bachelor's Degree      0\n",
       "Percent Rural                            0\n",
       "Year                                     0\n",
       "Office                                   0\n",
       "Democratic                               3\n",
       "Republican                               2\n",
       "dtype: int64"
      ]
     },
     "execution_count": 30,
     "metadata": {},
     "output_type": "execute_result"
    }
   ],
   "source": [
    "merged_data.isnull().sum()"
   ]
  },
  {
   "cell_type": "code",
   "execution_count": 31,
   "metadata": {},
   "outputs": [
    {
     "data": {
      "text/html": [
       "<div>\n",
       "<style scoped>\n",
       "    .dataframe tbody tr th:only-of-type {\n",
       "        vertical-align: middle;\n",
       "    }\n",
       "\n",
       "    .dataframe tbody tr th {\n",
       "        vertical-align: top;\n",
       "    }\n",
       "\n",
       "    .dataframe thead th {\n",
       "        text-align: right;\n",
       "    }\n",
       "</style>\n",
       "<table border=\"1\" class=\"dataframe\">\n",
       "  <thead>\n",
       "    <tr style=\"text-align: right;\">\n",
       "      <th></th>\n",
       "      <th>State</th>\n",
       "      <th>County</th>\n",
       "      <th>FIPS</th>\n",
       "      <th>Total Population</th>\n",
       "      <th>Citizen Voting-Age Population</th>\n",
       "      <th>Percent White, not Hispanic or Latino</th>\n",
       "      <th>Percent Black, not Hispanic or Latino</th>\n",
       "      <th>Percent Hispanic or Latino</th>\n",
       "      <th>Percent Foreign Born</th>\n",
       "      <th>Percent Female</th>\n",
       "      <th>...</th>\n",
       "      <th>Percent Age 65 and Older</th>\n",
       "      <th>Median Household Income</th>\n",
       "      <th>Percent Unemployed</th>\n",
       "      <th>Percent Less than High School Degree</th>\n",
       "      <th>Percent Less than Bachelor's Degree</th>\n",
       "      <th>Percent Rural</th>\n",
       "      <th>Year</th>\n",
       "      <th>Office</th>\n",
       "      <th>Democratic</th>\n",
       "      <th>Republican</th>\n",
       "    </tr>\n",
       "  </thead>\n",
       "  <tbody>\n",
       "    <tr>\n",
       "      <th>753</th>\n",
       "      <td>TX</td>\n",
       "      <td>bee</td>\n",
       "      <td>48025</td>\n",
       "      <td>32706</td>\n",
       "      <td>0</td>\n",
       "      <td>32.660674</td>\n",
       "      <td>7.989360</td>\n",
       "      <td>57.909864</td>\n",
       "      <td>4.344769</td>\n",
       "      <td>39.579894</td>\n",
       "      <td>...</td>\n",
       "      <td>11.514707</td>\n",
       "      <td>44005</td>\n",
       "      <td>6.065048</td>\n",
       "      <td>28.602944</td>\n",
       "      <td>91.094503</td>\n",
       "      <td>42.977308</td>\n",
       "      <td>2018</td>\n",
       "      <td>US Senator</td>\n",
       "      <td>2811.0</td>\n",
       "      <td>NaN</td>\n",
       "    </tr>\n",
       "    <tr>\n",
       "      <th>1119</th>\n",
       "      <td>WI</td>\n",
       "      <td>lafayette</td>\n",
       "      <td>55065</td>\n",
       "      <td>16793</td>\n",
       "      <td>0</td>\n",
       "      <td>94.771631</td>\n",
       "      <td>0.339427</td>\n",
       "      <td>3.507414</td>\n",
       "      <td>2.286667</td>\n",
       "      <td>49.199071</td>\n",
       "      <td>...</td>\n",
       "      <td>16.709343</td>\n",
       "      <td>53038</td>\n",
       "      <td>2.998885</td>\n",
       "      <td>10.123457</td>\n",
       "      <td>82.336861</td>\n",
       "      <td>100.000000</td>\n",
       "      <td>2018</td>\n",
       "      <td>US Senator</td>\n",
       "      <td>3592.0</td>\n",
       "      <td>NaN</td>\n",
       "    </tr>\n",
       "  </tbody>\n",
       "</table>\n",
       "<p>2 rows × 21 columns</p>\n",
       "</div>"
      ],
      "text/plain": [
       "     State     County   FIPS  Total Population  Citizen Voting-Age Population  \\\n",
       "753     TX        bee  48025             32706                              0   \n",
       "1119    WI  lafayette  55065             16793                              0   \n",
       "\n",
       "      Percent White, not Hispanic or Latino  \\\n",
       "753                               32.660674   \n",
       "1119                              94.771631   \n",
       "\n",
       "      Percent Black, not Hispanic or Latino  Percent Hispanic or Latino  \\\n",
       "753                                7.989360                   57.909864   \n",
       "1119                               0.339427                    3.507414   \n",
       "\n",
       "      Percent Foreign Born  Percent Female  ...  Percent Age 65 and Older  \\\n",
       "753               4.344769       39.579894  ...                 11.514707   \n",
       "1119              2.286667       49.199071  ...                 16.709343   \n",
       "\n",
       "      Median Household Income  Percent Unemployed  \\\n",
       "753                     44005            6.065048   \n",
       "1119                    53038            2.998885   \n",
       "\n",
       "      Percent Less than High School Degree  \\\n",
       "753                              28.602944   \n",
       "1119                             10.123457   \n",
       "\n",
       "      Percent Less than Bachelor's Degree  Percent Rural  Year      Office  \\\n",
       "753                             91.094503      42.977308  2018  US Senator   \n",
       "1119                            82.336861     100.000000  2018  US Senator   \n",
       "\n",
       "     Democratic  Republican  \n",
       "753      2811.0         NaN  \n",
       "1119     3592.0         NaN  \n",
       "\n",
       "[2 rows x 21 columns]"
      ]
     },
     "execution_count": 31,
     "metadata": {},
     "output_type": "execute_result"
    }
   ],
   "source": [
    "bool1 = pd.isnull(merged_data['Republican'])\n",
    "merged_data[bool1]"
   ]
  },
  {
   "cell_type": "code",
   "execution_count": 32,
   "metadata": {},
   "outputs": [
    {
     "data": {
      "text/html": [
       "<div>\n",
       "<style scoped>\n",
       "    .dataframe tbody tr th:only-of-type {\n",
       "        vertical-align: middle;\n",
       "    }\n",
       "\n",
       "    .dataframe tbody tr th {\n",
       "        vertical-align: top;\n",
       "    }\n",
       "\n",
       "    .dataframe thead th {\n",
       "        text-align: right;\n",
       "    }\n",
       "</style>\n",
       "<table border=\"1\" class=\"dataframe\">\n",
       "  <thead>\n",
       "    <tr style=\"text-align: right;\">\n",
       "      <th></th>\n",
       "      <th>State</th>\n",
       "      <th>County</th>\n",
       "      <th>FIPS</th>\n",
       "      <th>Total Population</th>\n",
       "      <th>Citizen Voting-Age Population</th>\n",
       "      <th>Percent White, not Hispanic or Latino</th>\n",
       "      <th>Percent Black, not Hispanic or Latino</th>\n",
       "      <th>Percent Hispanic or Latino</th>\n",
       "      <th>Percent Foreign Born</th>\n",
       "      <th>Percent Female</th>\n",
       "      <th>...</th>\n",
       "      <th>Percent Age 65 and Older</th>\n",
       "      <th>Median Household Income</th>\n",
       "      <th>Percent Unemployed</th>\n",
       "      <th>Percent Less than High School Degree</th>\n",
       "      <th>Percent Less than Bachelor's Degree</th>\n",
       "      <th>Percent Rural</th>\n",
       "      <th>Year</th>\n",
       "      <th>Office</th>\n",
       "      <th>Democratic</th>\n",
       "      <th>Republican</th>\n",
       "    </tr>\n",
       "  </thead>\n",
       "  <tbody>\n",
       "    <tr>\n",
       "      <th>425</th>\n",
       "      <td>NE</td>\n",
       "      <td>lancaster</td>\n",
       "      <td>31109</td>\n",
       "      <td>301707</td>\n",
       "      <td>0</td>\n",
       "      <td>82.659667</td>\n",
       "      <td>3.783472</td>\n",
       "      <td>6.531834</td>\n",
       "      <td>7.523856</td>\n",
       "      <td>49.891782</td>\n",
       "      <td>...</td>\n",
       "      <td>12.175057</td>\n",
       "      <td>53730</td>\n",
       "      <td>4.372984</td>\n",
       "      <td>6.636272</td>\n",
       "      <td>62.697684</td>\n",
       "      <td>8.253126</td>\n",
       "      <td>2018</td>\n",
       "      <td>US Senator</td>\n",
       "      <td>NaN</td>\n",
       "      <td>49449.0</td>\n",
       "    </tr>\n",
       "    <tr>\n",
       "      <th>716</th>\n",
       "      <td>TN</td>\n",
       "      <td>meigs</td>\n",
       "      <td>47121</td>\n",
       "      <td>11804</td>\n",
       "      <td>0</td>\n",
       "      <td>94.713656</td>\n",
       "      <td>1.330058</td>\n",
       "      <td>1.465605</td>\n",
       "      <td>1.067435</td>\n",
       "      <td>50.626906</td>\n",
       "      <td>...</td>\n",
       "      <td>19.662826</td>\n",
       "      <td>35209</td>\n",
       "      <td>12.544170</td>\n",
       "      <td>21.141176</td>\n",
       "      <td>91.176471</td>\n",
       "      <td>100.000000</td>\n",
       "      <td>2018</td>\n",
       "      <td>US Senator</td>\n",
       "      <td>NaN</td>\n",
       "      <td>2694.0</td>\n",
       "    </tr>\n",
       "    <tr>\n",
       "      <th>869</th>\n",
       "      <td>TX</td>\n",
       "      <td>menard</td>\n",
       "      <td>48327</td>\n",
       "      <td>2163</td>\n",
       "      <td>0</td>\n",
       "      <td>56.310680</td>\n",
       "      <td>1.248266</td>\n",
       "      <td>39.389736</td>\n",
       "      <td>4.299584</td>\n",
       "      <td>46.833102</td>\n",
       "      <td>...</td>\n",
       "      <td>22.468793</td>\n",
       "      <td>37917</td>\n",
       "      <td>8.360836</td>\n",
       "      <td>21.113990</td>\n",
       "      <td>84.909326</td>\n",
       "      <td>100.000000</td>\n",
       "      <td>2018</td>\n",
       "      <td>US Senator</td>\n",
       "      <td>NaN</td>\n",
       "      <td>632.0</td>\n",
       "    </tr>\n",
       "  </tbody>\n",
       "</table>\n",
       "<p>3 rows × 21 columns</p>\n",
       "</div>"
      ],
      "text/plain": [
       "    State     County   FIPS  Total Population  Citizen Voting-Age Population  \\\n",
       "425    NE  lancaster  31109            301707                              0   \n",
       "716    TN      meigs  47121             11804                              0   \n",
       "869    TX     menard  48327              2163                              0   \n",
       "\n",
       "     Percent White, not Hispanic or Latino  \\\n",
       "425                              82.659667   \n",
       "716                              94.713656   \n",
       "869                              56.310680   \n",
       "\n",
       "     Percent Black, not Hispanic or Latino  Percent Hispanic or Latino  \\\n",
       "425                               3.783472                    6.531834   \n",
       "716                               1.330058                    1.465605   \n",
       "869                               1.248266                   39.389736   \n",
       "\n",
       "     Percent Foreign Born  Percent Female  ...  Percent Age 65 and Older  \\\n",
       "425              7.523856       49.891782  ...                 12.175057   \n",
       "716              1.067435       50.626906  ...                 19.662826   \n",
       "869              4.299584       46.833102  ...                 22.468793   \n",
       "\n",
       "     Median Household Income  Percent Unemployed  \\\n",
       "425                    53730            4.372984   \n",
       "716                    35209           12.544170   \n",
       "869                    37917            8.360836   \n",
       "\n",
       "     Percent Less than High School Degree  \\\n",
       "425                              6.636272   \n",
       "716                             21.141176   \n",
       "869                             21.113990   \n",
       "\n",
       "     Percent Less than Bachelor's Degree  Percent Rural  Year      Office  \\\n",
       "425                            62.697684       8.253126  2018  US Senator   \n",
       "716                            91.176471     100.000000  2018  US Senator   \n",
       "869                            84.909326     100.000000  2018  US Senator   \n",
       "\n",
       "    Democratic  Republican  \n",
       "425        NaN     49449.0  \n",
       "716        NaN      2694.0  \n",
       "869        NaN       632.0  \n",
       "\n",
       "[3 rows x 21 columns]"
      ]
     },
     "execution_count": 32,
     "metadata": {},
     "output_type": "execute_result"
    }
   ],
   "source": [
    "bool2 = pd.isnull(merged_data['Democratic'])\n",
    "merged_data[bool2]"
   ]
  },
  {
   "cell_type": "code",
   "execution_count": null,
   "metadata": {},
   "outputs": [],
   "source": []
  },
  {
   "cell_type": "code",
   "execution_count": null,
   "metadata": {},
   "outputs": [],
   "source": []
  },
  {
   "cell_type": "code",
   "execution_count": null,
   "metadata": {},
   "outputs": [],
   "source": []
  },
  {
   "cell_type": "code",
   "execution_count": 33,
   "metadata": {},
   "outputs": [],
   "source": [
    "# Task 5"
   ]
  },
  {
   "cell_type": "code",
   "execution_count": 34,
   "metadata": {},
   "outputs": [],
   "source": [
    "# Create a new boolean column where value = true if # of Democratic votes is greater than Republican votes, else false\n",
    "merged_data['Party'] = merged_data.apply(lambda row: row.Democratic > row.Republican, axis=1)\n",
    "\n",
    "# Map true, false values of the new column to 1, 0\n",
    "merged_data['Party'] = merged_data['Party'].astype(int)"
   ]
  },
  {
   "cell_type": "code",
   "execution_count": 35,
   "metadata": {},
   "outputs": [
    {
     "data": {
      "text/html": [
       "<div>\n",
       "<style scoped>\n",
       "    .dataframe tbody tr th:only-of-type {\n",
       "        vertical-align: middle;\n",
       "    }\n",
       "\n",
       "    .dataframe tbody tr th {\n",
       "        vertical-align: top;\n",
       "    }\n",
       "\n",
       "    .dataframe thead th {\n",
       "        text-align: right;\n",
       "    }\n",
       "</style>\n",
       "<table border=\"1\" class=\"dataframe\">\n",
       "  <thead>\n",
       "    <tr style=\"text-align: right;\">\n",
       "      <th></th>\n",
       "      <th>State</th>\n",
       "      <th>County</th>\n",
       "      <th>FIPS</th>\n",
       "      <th>Total Population</th>\n",
       "      <th>Citizen Voting-Age Population</th>\n",
       "      <th>Percent White, not Hispanic or Latino</th>\n",
       "      <th>Percent Black, not Hispanic or Latino</th>\n",
       "      <th>Percent Hispanic or Latino</th>\n",
       "      <th>Percent Foreign Born</th>\n",
       "      <th>Percent Female</th>\n",
       "      <th>...</th>\n",
       "      <th>Median Household Income</th>\n",
       "      <th>Percent Unemployed</th>\n",
       "      <th>Percent Less than High School Degree</th>\n",
       "      <th>Percent Less than Bachelor's Degree</th>\n",
       "      <th>Percent Rural</th>\n",
       "      <th>Year</th>\n",
       "      <th>Office</th>\n",
       "      <th>Democratic</th>\n",
       "      <th>Republican</th>\n",
       "      <th>Party</th>\n",
       "    </tr>\n",
       "  </thead>\n",
       "  <tbody>\n",
       "    <tr>\n",
       "      <th>0</th>\n",
       "      <td>AZ</td>\n",
       "      <td>apache</td>\n",
       "      <td>4001</td>\n",
       "      <td>72346</td>\n",
       "      <td>0</td>\n",
       "      <td>18.571863</td>\n",
       "      <td>0.486551</td>\n",
       "      <td>5.947806</td>\n",
       "      <td>1.719515</td>\n",
       "      <td>50.598513</td>\n",
       "      <td>...</td>\n",
       "      <td>32460</td>\n",
       "      <td>15.807433</td>\n",
       "      <td>21.758252</td>\n",
       "      <td>88.941063</td>\n",
       "      <td>74.061076</td>\n",
       "      <td>2018</td>\n",
       "      <td>US Senator</td>\n",
       "      <td>16298.0</td>\n",
       "      <td>7810.0</td>\n",
       "      <td>1</td>\n",
       "    </tr>\n",
       "    <tr>\n",
       "      <th>1</th>\n",
       "      <td>AZ</td>\n",
       "      <td>cochise</td>\n",
       "      <td>4003</td>\n",
       "      <td>128177</td>\n",
       "      <td>92915</td>\n",
       "      <td>56.299492</td>\n",
       "      <td>3.714395</td>\n",
       "      <td>34.403208</td>\n",
       "      <td>11.458374</td>\n",
       "      <td>49.069646</td>\n",
       "      <td>...</td>\n",
       "      <td>45383</td>\n",
       "      <td>8.567108</td>\n",
       "      <td>13.409171</td>\n",
       "      <td>76.837055</td>\n",
       "      <td>36.301067</td>\n",
       "      <td>2018</td>\n",
       "      <td>US Senator</td>\n",
       "      <td>17383.0</td>\n",
       "      <td>26929.0</td>\n",
       "      <td>0</td>\n",
       "    </tr>\n",
       "    <tr>\n",
       "      <th>2</th>\n",
       "      <td>AZ</td>\n",
       "      <td>coconino</td>\n",
       "      <td>4005</td>\n",
       "      <td>138064</td>\n",
       "      <td>104265</td>\n",
       "      <td>54.619597</td>\n",
       "      <td>1.342855</td>\n",
       "      <td>13.711033</td>\n",
       "      <td>4.825298</td>\n",
       "      <td>50.581614</td>\n",
       "      <td>...</td>\n",
       "      <td>51106</td>\n",
       "      <td>8.238305</td>\n",
       "      <td>11.085381</td>\n",
       "      <td>65.791439</td>\n",
       "      <td>31.466066</td>\n",
       "      <td>2018</td>\n",
       "      <td>US Senator</td>\n",
       "      <td>34240.0</td>\n",
       "      <td>19249.0</td>\n",
       "      <td>1</td>\n",
       "    </tr>\n",
       "    <tr>\n",
       "      <th>3</th>\n",
       "      <td>AZ</td>\n",
       "      <td>gila</td>\n",
       "      <td>4007</td>\n",
       "      <td>53179</td>\n",
       "      <td>0</td>\n",
       "      <td>63.222325</td>\n",
       "      <td>0.552850</td>\n",
       "      <td>18.548675</td>\n",
       "      <td>4.249798</td>\n",
       "      <td>50.296170</td>\n",
       "      <td>...</td>\n",
       "      <td>40593</td>\n",
       "      <td>12.129932</td>\n",
       "      <td>15.729958</td>\n",
       "      <td>82.262624</td>\n",
       "      <td>41.062000</td>\n",
       "      <td>2018</td>\n",
       "      <td>US Senator</td>\n",
       "      <td>7643.0</td>\n",
       "      <td>12180.0</td>\n",
       "      <td>0</td>\n",
       "    </tr>\n",
       "    <tr>\n",
       "      <th>4</th>\n",
       "      <td>AZ</td>\n",
       "      <td>graham</td>\n",
       "      <td>4009</td>\n",
       "      <td>37529</td>\n",
       "      <td>0</td>\n",
       "      <td>51.461536</td>\n",
       "      <td>1.811932</td>\n",
       "      <td>32.097844</td>\n",
       "      <td>4.385942</td>\n",
       "      <td>46.313518</td>\n",
       "      <td>...</td>\n",
       "      <td>47422</td>\n",
       "      <td>14.424104</td>\n",
       "      <td>14.580797</td>\n",
       "      <td>86.675944</td>\n",
       "      <td>46.437399</td>\n",
       "      <td>2018</td>\n",
       "      <td>US Senator</td>\n",
       "      <td>3368.0</td>\n",
       "      <td>6870.0</td>\n",
       "      <td>0</td>\n",
       "    </tr>\n",
       "  </tbody>\n",
       "</table>\n",
       "<p>5 rows × 22 columns</p>\n",
       "</div>"
      ],
      "text/plain": [
       "  State    County  FIPS  Total Population  Citizen Voting-Age Population  \\\n",
       "0    AZ    apache  4001             72346                              0   \n",
       "1    AZ   cochise  4003            128177                          92915   \n",
       "2    AZ  coconino  4005            138064                         104265   \n",
       "3    AZ      gila  4007             53179                              0   \n",
       "4    AZ    graham  4009             37529                              0   \n",
       "\n",
       "   Percent White, not Hispanic or Latino  \\\n",
       "0                              18.571863   \n",
       "1                              56.299492   \n",
       "2                              54.619597   \n",
       "3                              63.222325   \n",
       "4                              51.461536   \n",
       "\n",
       "   Percent Black, not Hispanic or Latino  Percent Hispanic or Latino  \\\n",
       "0                               0.486551                    5.947806   \n",
       "1                               3.714395                   34.403208   \n",
       "2                               1.342855                   13.711033   \n",
       "3                               0.552850                   18.548675   \n",
       "4                               1.811932                   32.097844   \n",
       "\n",
       "   Percent Foreign Born  Percent Female  ...  Median Household Income  \\\n",
       "0              1.719515       50.598513  ...                    32460   \n",
       "1             11.458374       49.069646  ...                    45383   \n",
       "2              4.825298       50.581614  ...                    51106   \n",
       "3              4.249798       50.296170  ...                    40593   \n",
       "4              4.385942       46.313518  ...                    47422   \n",
       "\n",
       "   Percent Unemployed  Percent Less than High School Degree  \\\n",
       "0           15.807433                             21.758252   \n",
       "1            8.567108                             13.409171   \n",
       "2            8.238305                             11.085381   \n",
       "3           12.129932                             15.729958   \n",
       "4           14.424104                             14.580797   \n",
       "\n",
       "   Percent Less than Bachelor's Degree  Percent Rural  Year      Office  \\\n",
       "0                            88.941063      74.061076  2018  US Senator   \n",
       "1                            76.837055      36.301067  2018  US Senator   \n",
       "2                            65.791439      31.466066  2018  US Senator   \n",
       "3                            82.262624      41.062000  2018  US Senator   \n",
       "4                            86.675944      46.437399  2018  US Senator   \n",
       "\n",
       "   Democratic Republican  Party  \n",
       "0     16298.0     7810.0      1  \n",
       "1     17383.0    26929.0      0  \n",
       "2     34240.0    19249.0      1  \n",
       "3      7643.0    12180.0      0  \n",
       "4      3368.0     6870.0      0  \n",
       "\n",
       "[5 rows x 22 columns]"
      ]
     },
     "execution_count": 35,
     "metadata": {},
     "output_type": "execute_result"
    }
   ],
   "source": [
    "merged_data.head()"
   ]
  },
  {
   "cell_type": "code",
   "execution_count": null,
   "metadata": {},
   "outputs": [],
   "source": []
  },
  {
   "cell_type": "code",
   "execution_count": 36,
   "metadata": {},
   "outputs": [],
   "source": [
    "# Task 6"
   ]
  },
  {
   "cell_type": "code",
   "execution_count": 37,
   "metadata": {},
   "outputs": [
    {
     "data": {
      "text/plain": [
       "53798.732307692306"
      ]
     },
     "execution_count": 37,
     "metadata": {},
     "output_type": "execute_result"
    }
   ],
   "source": [
    "merged_data[merged_data['Party']==1]['Median Household Income'].mean()"
   ]
  },
  {
   "cell_type": "code",
   "execution_count": 38,
   "metadata": {},
   "outputs": [
    {
     "data": {
      "text/plain": [
       "48724.15085714286"
      ]
     },
     "execution_count": 38,
     "metadata": {},
     "output_type": "execute_result"
    }
   ],
   "source": [
    "merged_data[merged_data['Party']==0]['Median Household Income'].mean()"
   ]
  },
  {
   "cell_type": "code",
   "execution_count": null,
   "metadata": {},
   "outputs": [],
   "source": []
  },
  {
   "cell_type": "code",
   "execution_count": 39,
   "metadata": {},
   "outputs": [
    {
     "data": {
      "text/plain": [
       "15289.130077404623"
      ]
     },
     "execution_count": 39,
     "metadata": {},
     "output_type": "execute_result"
    }
   ],
   "source": [
    "merged_data[merged_data['Party']==1]['Median Household Income'].std()"
   ]
  },
  {
   "cell_type": "code",
   "execution_count": 40,
   "metadata": {},
   "outputs": [
    {
     "data": {
      "text/plain": [
       "10659.814624059902"
      ]
     },
     "execution_count": 40,
     "metadata": {},
     "output_type": "execute_result"
    }
   ],
   "source": [
    "merged_data[merged_data['Party']==0]['Median Household Income'].std()"
   ]
  },
  {
   "cell_type": "code",
   "execution_count": null,
   "metadata": {},
   "outputs": [],
   "source": []
  },
  {
   "cell_type": "code",
   "execution_count": 41,
   "metadata": {},
   "outputs": [],
   "source": [
    "# Resource I used for calculating p value\n",
    "# https://towardsdatascience.com/hypothesis-testing-in-machine-learning-using-python-a0dc89e169ce"
   ]
  },
  {
   "cell_type": "code",
   "execution_count": 42,
   "metadata": {},
   "outputs": [
    {
     "data": {
      "text/plain": [
       "Ttest_indResult(statistic=6.462503854229826, pvalue=1.4949765852641108e-10)"
      ]
     },
     "execution_count": 42,
     "metadata": {},
     "output_type": "execute_result"
    }
   ],
   "source": [
    "ttest_ind(merged_data[merged_data['Party']==1]['Median Household Income'], merged_data[merged_data['Party']==0]['Median Household Income'])\n"
   ]
  },
  {
   "cell_type": "code",
   "execution_count": null,
   "metadata": {},
   "outputs": [],
   "source": []
  },
  {
   "cell_type": "code",
   "execution_count": 43,
   "metadata": {},
   "outputs": [],
   "source": [
    "# Task 7"
   ]
  },
  {
   "cell_type": "code",
   "execution_count": 44,
   "metadata": {},
   "outputs": [
    {
     "data": {
      "text/plain": [
       "300998.3169230769"
      ]
     },
     "execution_count": 44,
     "metadata": {},
     "output_type": "execute_result"
    }
   ],
   "source": [
    "merged_data[merged_data['Party']==1]['Total Population'].mean()"
   ]
  },
  {
   "cell_type": "code",
   "execution_count": 45,
   "metadata": {},
   "outputs": [
    {
     "data": {
      "text/plain": [
       "53974.214857142855"
      ]
     },
     "execution_count": 45,
     "metadata": {},
     "output_type": "execute_result"
    }
   ],
   "source": [
    "merged_data[merged_data['Party']==0]['Total Population'].mean()"
   ]
  },
  {
   "cell_type": "code",
   "execution_count": null,
   "metadata": {},
   "outputs": [],
   "source": []
  },
  {
   "cell_type": "code",
   "execution_count": 46,
   "metadata": {},
   "outputs": [
    {
     "data": {
      "text/plain": [
       "553600.02571233"
      ]
     },
     "execution_count": 46,
     "metadata": {},
     "output_type": "execute_result"
    }
   ],
   "source": [
    "merged_data[merged_data['Party']==1]['Total Population'].std()"
   ]
  },
  {
   "cell_type": "code",
   "execution_count": 47,
   "metadata": {},
   "outputs": [
    {
     "data": {
      "text/plain": [
       "94334.09097825087"
      ]
     },
     "execution_count": 47,
     "metadata": {},
     "output_type": "execute_result"
    }
   ],
   "source": [
    "merged_data[merged_data['Party']==0]['Total Population'].std()"
   ]
  },
  {
   "cell_type": "code",
   "execution_count": null,
   "metadata": {},
   "outputs": [],
   "source": []
  },
  {
   "cell_type": "code",
   "execution_count": 48,
   "metadata": {},
   "outputs": [
    {
     "data": {
      "text/plain": [
       "Ttest_indResult(statistic=12.719761654457653, pvalue=7.375503043345805e-35)"
      ]
     },
     "execution_count": 48,
     "metadata": {},
     "output_type": "execute_result"
    }
   ],
   "source": [
    "ttest_ind(merged_data[merged_data['Party']==1]['Total Population'], merged_data[merged_data['Party']==0]['Total Population'])\n"
   ]
  },
  {
   "cell_type": "code",
   "execution_count": 49,
   "metadata": {},
   "outputs": [
    {
     "data": {
      "text/plain": [
       "<matplotlib.axes._subplots.AxesSubplot at 0x23dafed5488>"
      ]
     },
     "execution_count": 49,
     "metadata": {},
     "output_type": "execute_result"
    },
    {
     "data": {
      "image/png": "[encoded data removed]",
      "text/plain": [
       "<Figure size 432x288 with 1 Axes>"
      ]
     },
     "metadata": {
      "needs_background": "light"
     },
     "output_type": "display_data"
    }
   ],
   "source": [
    "merged_data.groupby(['Party'])\n",
    "sns.boxplot(x='Party',y='Percent Female',data= merged_data)\n"
   ]
  },
  {
   "cell_type": "code",
   "execution_count": 61,
   "metadata": {},
   "outputs": [],
   "source": [
    "ethnicityWhite = merged_data[[\"Percent White, not Hispanic or Latino\",\"Party\"]]"
   ]
  },
  {
   "cell_type": "code",
   "execution_count": 62,
   "metadata": {},
   "outputs": [
    {
     "data": {
      "text/html": [
       "<div>\n",
       "<style scoped>\n",
       "    .dataframe tbody tr th:only-of-type {\n",
       "        vertical-align: middle;\n",
       "    }\n",
       "\n",
       "    .dataframe tbody tr th {\n",
       "        vertical-align: top;\n",
       "    }\n",
       "\n",
       "    .dataframe thead th {\n",
       "        text-align: right;\n",
       "    }\n",
       "</style>\n",
       "<table border=\"1\" class=\"dataframe\">\n",
       "  <thead>\n",
       "    <tr style=\"text-align: right;\">\n",
       "      <th></th>\n",
       "      <th>Percent White, not Hispanic or Latino</th>\n",
       "      <th>Party</th>\n",
       "    </tr>\n",
       "  </thead>\n",
       "  <tbody>\n",
       "    <tr>\n",
       "      <th>0</th>\n",
       "      <td>18.571863</td>\n",
       "      <td>1</td>\n",
       "    </tr>\n",
       "    <tr>\n",
       "      <th>1</th>\n",
       "      <td>56.299492</td>\n",
       "      <td>0</td>\n",
       "    </tr>\n",
       "    <tr>\n",
       "      <th>2</th>\n",
       "      <td>54.619597</td>\n",
       "      <td>1</td>\n",
       "    </tr>\n",
       "    <tr>\n",
       "      <th>3</th>\n",
       "      <td>63.222325</td>\n",
       "      <td>0</td>\n",
       "    </tr>\n",
       "    <tr>\n",
       "      <th>4</th>\n",
       "      <td>51.461536</td>\n",
       "      <td>0</td>\n",
       "    </tr>\n",
       "  </tbody>\n",
       "</table>\n",
       "</div>"
      ],
      "text/plain": [
       "   Percent White, not Hispanic or Latino  Party\n",
       "0                              18.571863      1\n",
       "1                              56.299492      0\n",
       "2                              54.619597      1\n",
       "3                              63.222325      0\n",
       "4                              51.461536      0"
      ]
     },
     "execution_count": 62,
     "metadata": {},
     "output_type": "execute_result"
    }
   ],
   "source": [
    "ethnicityWhite.head()"
   ]
  },
  {
   "cell_type": "code",
   "execution_count": 67,
   "metadata": {},
   "outputs": [
    {
     "data": {
      "image/png": "[encoded data removed]",
      "text/plain": [
       "<Figure size 432x288 with 1 Axes>"
      ]
     },
     "metadata": {
      "needs_background": "light"
     },
     "output_type": "display_data"
    }
   ],
   "source": [
    "ax = sns.barplot(x=\"Party\", y=\"Percent White, not Hispanic or Latino\", data=ethnicityWhite).set_title(\"White percentages for party\")"
   ]
  },
  {
   "cell_type": "code",
   "execution_count": 68,
   "metadata": {},
   "outputs": [
    {
     "data": {
      "image/png": "[encoded data removed]",
      "text/plain": [
       "<Figure size 432x288 with 1 Axes>"
      ]
     },
     "metadata": {
      "needs_background": "light"
     },
     "output_type": "display_data"
    }
   ],
   "source": [
    "ethnicityBlack = merged_data[[\"Percent Black, not Hispanic or Latino\",\"Party\"]]\n",
    "ax = sns.barplot(x=\"Party\", y=\"Percent Black, not Hispanic or Latino\", data=ethnicityBlack).set_title(\"Black percentages for party\")"
   ]
  },
  {
   "cell_type": "code",
   "execution_count": 69,
   "metadata": {},
   "outputs": [
    {
     "data": {
      "image/png": "[encoded data removed]",
      "text/plain": [
       "<Figure size 432x288 with 1 Axes>"
      ]
     },
     "metadata": {
      "needs_background": "light"
     },
     "output_type": "display_data"
    }
   ],
   "source": [
    "ethnicityLatino = merged_data[[\"Percent Hispanic or Latino\",\"Party\"]]\n",
    "ax = sns.barplot(x=\"Party\", y=\"Percent Hispanic or Latino\", data=ethnicityLatino).set_title(\"Latino percentages for party\")"
   ]
  },
  {
   "cell_type": "code",
   "execution_count": 72,
   "metadata": {},
   "outputs": [
    {
     "data": {
      "image/png": "[encoded data removed]",
      "text/plain": [
       "<Figure size 432x288 with 1 Axes>"
      ]
     },
     "metadata": {
      "needs_background": "light"
     },
     "output_type": "display_data"
    }
   ],
   "source": [
    "highschoolEd = merged_data[[\"Percent Less than High School Degree\",\"Party\"]]\n",
    "ax = sns.barplot(x=\"Party\", y=\"Percent Less than High School Degree\", data=highschoolEd).set_title(\"Education: less than high school degree\")"
   ]
  },
  {
   "cell_type": "code",
   "execution_count": 73,
   "metadata": {},
   "outputs": [
    {
     "data": {
      "image/png": "[encoded data removed]",
      "text/plain": [
       "<Figure size 432x288 with 1 Axes>"
      ]
     },
     "metadata": {
      "needs_background": "light"
     },
     "output_type": "display_data"
    }
   ],
   "source": [
    "collegeEd = merged_data[[\"Percent Less than Bachelor's Degree\",\"Party\"]]\n",
    "ax = sns.barplot(x=\"Party\", y=\"Percent Less than Bachelor's Degree\", data=collegeEd).set_title(\"Education: less than Bachelor's degree\")"
   ]
  },
  {
   "cell_type": "markdown",
   "metadata": {},
   "source": [
    "The first boxplot shows us that both parties have a median percentage of around 50%. Which makes sense because this doesn't show the percentage of females for the party but rather the percentage of females in a county that is republican or democratic. So logically speaking most counties are going to have an even ratio of male to female. So then inherently, no matter if a county is more democratic or more republican, the percentages will be even. Next up we have the percentage of white people in a party. We see for the counties that are \"0\" ie republican that the percentage is higher for the amount of white people compared to democratic parties. The error bars don't overlap so there is high degree of confidence that counties which are republican will have a high percentage of white people. Next is the black ethnicity. We see that \"1\" which is democratic has a higher percentage than the republican which means most counties that are democratic will most likely have a high percentage of african americans. Since the error bars don't overlap we can say with high degree of confidence that african americans tend to be in favor of the democratic party. Next is hispanics. If we look at the bars alone we would probably say that hispanics would tend to vote for the democratic party. However the bars error bars overlap. Which means that true height of those bars could be anywhere in the error bars. And since they overlap it could mean the true height is the same for both. So we can't say with a high degree of confidence that if a county is democratic they will have larger percentage of hispanics compared to a republican party. \n",
    "The next variable is highschool education and college education. For both categories republicans have a substantial lead on the democrats.And for both categories the error bars don't overlap. Which shows counties that are republican have more people that have less than a highschool degree and have more people that have less than a college degree. Which we then can conclude that people with less than a college and/or highschool degree are more likely to be in favor of the republican platform."
   ]
  }
 ],
 "metadata": {
  "kernelspec": {
   "display_name": "Python 3",
   "language": "python",
   "name": "python3"
  },
  "language_info": {
   "codemirror_mode": {
    "name": "ipython",
    "version": 3
   },
   "file_extension": ".py",
   "mimetype": "text/x-python",
   "name": "python",
   "nbconvert_exporter": "python",
   "pygments_lexer": "ipython3",
   "version": "3.7.6"
  }
 },
 "nbformat": 4,
 "nbformat_minor": 4
}
