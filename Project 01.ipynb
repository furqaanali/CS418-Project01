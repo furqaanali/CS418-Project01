{
 "cells": [
  {
   "cell_type": "code",
   "execution_count": 1,
   "metadata": {},
   "outputs": [],
   "source": [
    "# Load libraries\n",
    "import pandas as pd\n",
    "import matplotlib.pyplot as plt\n",
    "import seaborn as sns"
   ]
  },
  {
   "cell_type": "code",
   "execution_count": 2,
   "metadata": {},
   "outputs": [],
   "source": [
    "us_state_abbrev = {\n",
    "    'Alabama': 'AL',\n",
    "    'Alaska': 'AK',\n",
    "    'American Samoa': 'AS',\n",
    "    'Arizona': 'AZ',\n",
    "    'Arkansas': 'AR',\n",
    "    'California': 'CA',\n",
    "    'Colorado': 'CO',\n",
    "    'Connecticut': 'CT',\n",
    "    'Delaware': 'DE',\n",
    "    'District of Columbia': 'DC',\n",
    "    'Florida': 'FL',\n",
    "    'Georgia': 'GA',\n",
    "    'Guam': 'GU',\n",
    "    'Hawaii': 'HI',\n",
    "    'Idaho': 'ID',\n",
    "    'Illinois': 'IL',\n",
    "    'Indiana': 'IN',\n",
    "    'Iowa': 'IA',\n",
    "    'Kansas': 'KS',\n",
    "    'Kentucky': 'KY',\n",
    "    'Louisiana': 'LA',\n",
    "    'Maine': 'ME',\n",
    "    'Maryland': 'MD',\n",
    "    'Massachusetts': 'MA',\n",
    "    'Michigan': 'MI',\n",
    "    'Minnesota': 'MN',\n",
    "    'Mississippi': 'MS',\n",
    "    'Missouri': 'MO',\n",
    "    'Montana': 'MT',\n",
    "    'Nebraska': 'NE',\n",
    "    'Nevada': 'NV',\n",
    "    'New Hampshire': 'NH',\n",
    "    'New Jersey': 'NJ',\n",
    "    'New Mexico': 'NM',\n",
    "    'New York': 'NY',\n",
    "    'North Carolina': 'NC',\n",
    "    'North Dakota': 'ND',\n",
    "    'Northern Mariana Islands':'MP',\n",
    "    'Ohio': 'OH',\n",
    "    'Oklahoma': 'OK',\n",
    "    'Oregon': 'OR',\n",
    "    'Pennsylvania': 'PA',\n",
    "    'Puerto Rico': 'PR',\n",
    "    'Rhode Island': 'RI',\n",
    "    'South Carolina': 'SC',\n",
    "    'South Dakota': 'SD',\n",
    "    'Tennessee': 'TN',\n",
    "    'Texas': 'TX',\n",
    "    'Utah': 'UT',\n",
    "    'Vermont': 'VT',\n",
    "    'Virgin Islands': 'VI',\n",
    "    'Virginia': 'VA',\n",
    "    'Washington': 'WA',\n",
    "    'West Virginia': 'WV',\n",
    "    'Wisconsin': 'WI',\n",
    "    'Wyoming': 'WY'\n",
    "}"
   ]
  },
  {
   "cell_type": "code",
   "execution_count": 3,
   "metadata": {},
   "outputs": [],
   "source": [
    "# Load dataset\n",
    "demographics_data = pd.read_csv('demographics_train.csv')\n",
    "election_data = pd.read_csv('election_train.csv')"
   ]
  },
  {
   "cell_type": "code",
   "execution_count": 4,
   "metadata": {},
   "outputs": [],
   "source": [
    "# demographics_data.shape"
   ]
  },
  {
   "cell_type": "code",
   "execution_count": 5,
   "metadata": {},
   "outputs": [],
   "source": [
    "# election_data.shape"
   ]
  },
  {
   "cell_type": "code",
   "execution_count": 6,
   "metadata": {},
   "outputs": [],
   "source": [
    "# Map State names to abbreviations\n",
    "demographics_data['State'] = demographics_data['State'].map(us_state_abbrev)"
   ]
  },
  {
   "cell_type": "code",
   "execution_count": null,
   "metadata": {},
   "outputs": [],
   "source": []
  },
  {
   "cell_type": "code",
   "execution_count": 7,
   "metadata": {},
   "outputs": [],
   "source": [
    "# Convert all counties to lowercase\n",
    "demographics_data['County'] = demographics_data['County'].str.lower()\n",
    "election_data['County'] = election_data['County'].str.lower()"
   ]
  },
  {
   "cell_type": "code",
   "execution_count": 8,
   "metadata": {},
   "outputs": [],
   "source": [
    "# Sort the data by State, County for cleaner output\n",
    "demographics_data = demographics_data.sort_values(by=['State','County'])\n",
    "election_data = election_data.sort_values(by=['State','County'])"
   ]
  },
  {
   "cell_type": "code",
   "execution_count": 9,
   "metadata": {},
   "outputs": [
    {
     "name": "stderr",
     "output_type": "stream",
     "text": [
      "<ipython-input-9-1104b2c432b3>:3: SettingWithCopyWarning: \n",
      "A value is trying to be set on a copy of a slice from a DataFrame\n",
      "\n",
      "See the caveats in the documentation: https://pandas.pydata.org/pandas-docs/stable/user_guide/indexing.html#returning-a-view-versus-a-copy\n",
      "  election_data['County'][i] = election_data['County'][i].replace(' county', '')\n"
     ]
    }
   ],
   "source": [
    "# Remove 'County' from country names\n",
    "for i in range(len(election_data['County'])):\n",
    "    election_data['County'][i] = election_data['County'][i].replace(' county', '')"
   ]
  },
  {
   "cell_type": "code",
   "execution_count": null,
   "metadata": {},
   "outputs": [],
   "source": []
  },
  {
   "cell_type": "code",
   "execution_count": 10,
   "metadata": {},
   "outputs": [],
   "source": [
    "election_wide_data = pd.pivot_table(election_data, index=['Year','State','County','Office'], columns='Party', values='Votes').reset_index()"
   ]
  },
  {
   "cell_type": "code",
   "execution_count": 11,
   "metadata": {},
   "outputs": [
    {
     "data": {
      "text/plain": [
       "(1205, 6)"
      ]
     },
     "execution_count": 11,
     "metadata": {},
     "output_type": "execute_result"
    }
   ],
   "source": [
    "election_wide_data.shape"
   ]
  },
  {
   "cell_type": "code",
   "execution_count": null,
   "metadata": {},
   "outputs": [],
   "source": []
  },
  {
   "cell_type": "code",
   "execution_count": null,
   "metadata": {},
   "outputs": [],
   "source": []
  },
  {
   "cell_type": "code",
   "execution_count": null,
   "metadata": {},
   "outputs": [],
   "source": []
  },
  {
   "cell_type": "code",
   "execution_count": null,
   "metadata": {},
   "outputs": [],
   "source": []
  },
  {
   "cell_type": "code",
   "execution_count": 12,
   "metadata": {},
   "outputs": [],
   "source": [
    "merged_data = pd.merge(demographics_data, election_wide_data, left_index=True, on = ['State','County'], how='inner');"
   ]
  },
  {
   "cell_type": "code",
   "execution_count": 13,
   "metadata": {},
   "outputs": [
    {
     "data": {
      "text/html": [
       "<div>\n",
       "<style scoped>\n",
       "    .dataframe tbody tr th:only-of-type {\n",
       "        vertical-align: middle;\n",
       "    }\n",
       "\n",
       "    .dataframe tbody tr th {\n",
       "        vertical-align: top;\n",
       "    }\n",
       "\n",
       "    .dataframe thead th {\n",
       "        text-align: right;\n",
       "    }\n",
       "</style>\n",
       "<table border=\"1\" class=\"dataframe\">\n",
       "  <thead>\n",
       "    <tr style=\"text-align: right;\">\n",
       "      <th></th>\n",
       "      <th>State</th>\n",
       "      <th>County</th>\n",
       "      <th>FIPS</th>\n",
       "      <th>Total Population</th>\n",
       "      <th>Citizen Voting-Age Population</th>\n",
       "      <th>Percent White, not Hispanic or Latino</th>\n",
       "      <th>Percent Black, not Hispanic or Latino</th>\n",
       "      <th>Percent Hispanic or Latino</th>\n",
       "      <th>Percent Foreign Born</th>\n",
       "      <th>Percent Female</th>\n",
       "      <th>...</th>\n",
       "      <th>Percent Age 65 and Older</th>\n",
       "      <th>Median Household Income</th>\n",
       "      <th>Percent Unemployed</th>\n",
       "      <th>Percent Less than High School Degree</th>\n",
       "      <th>Percent Less than Bachelor's Degree</th>\n",
       "      <th>Percent Rural</th>\n",
       "      <th>Year</th>\n",
       "      <th>Office</th>\n",
       "      <th>Democratic</th>\n",
       "      <th>Republican</th>\n",
       "    </tr>\n",
       "  </thead>\n",
       "  <tbody>\n",
       "    <tr>\n",
       "      <th>0</th>\n",
       "      <td>AZ</td>\n",
       "      <td>apache</td>\n",
       "      <td>4001</td>\n",
       "      <td>72346</td>\n",
       "      <td>0</td>\n",
       "      <td>18.571863</td>\n",
       "      <td>0.486551</td>\n",
       "      <td>5.947806</td>\n",
       "      <td>1.719515</td>\n",
       "      <td>50.598513</td>\n",
       "      <td>...</td>\n",
       "      <td>13.322091</td>\n",
       "      <td>32460</td>\n",
       "      <td>15.807433</td>\n",
       "      <td>21.758252</td>\n",
       "      <td>88.941063</td>\n",
       "      <td>74.061076</td>\n",
       "      <td>2018</td>\n",
       "      <td>US Senator</td>\n",
       "      <td>16298.0</td>\n",
       "      <td>7810.0</td>\n",
       "    </tr>\n",
       "    <tr>\n",
       "      <th>1</th>\n",
       "      <td>AZ</td>\n",
       "      <td>cochise</td>\n",
       "      <td>4003</td>\n",
       "      <td>128177</td>\n",
       "      <td>92915</td>\n",
       "      <td>56.299492</td>\n",
       "      <td>3.714395</td>\n",
       "      <td>34.403208</td>\n",
       "      <td>11.458374</td>\n",
       "      <td>49.069646</td>\n",
       "      <td>...</td>\n",
       "      <td>19.756275</td>\n",
       "      <td>45383</td>\n",
       "      <td>8.567108</td>\n",
       "      <td>13.409171</td>\n",
       "      <td>76.837055</td>\n",
       "      <td>36.301067</td>\n",
       "      <td>2018</td>\n",
       "      <td>US Senator</td>\n",
       "      <td>17383.0</td>\n",
       "      <td>26929.0</td>\n",
       "    </tr>\n",
       "    <tr>\n",
       "      <th>2</th>\n",
       "      <td>AZ</td>\n",
       "      <td>coconino</td>\n",
       "      <td>4005</td>\n",
       "      <td>138064</td>\n",
       "      <td>104265</td>\n",
       "      <td>54.619597</td>\n",
       "      <td>1.342855</td>\n",
       "      <td>13.711033</td>\n",
       "      <td>4.825298</td>\n",
       "      <td>50.581614</td>\n",
       "      <td>...</td>\n",
       "      <td>10.873943</td>\n",
       "      <td>51106</td>\n",
       "      <td>8.238305</td>\n",
       "      <td>11.085381</td>\n",
       "      <td>65.791439</td>\n",
       "      <td>31.466066</td>\n",
       "      <td>2018</td>\n",
       "      <td>US Senator</td>\n",
       "      <td>34240.0</td>\n",
       "      <td>19249.0</td>\n",
       "    </tr>\n",
       "    <tr>\n",
       "      <th>3</th>\n",
       "      <td>AZ</td>\n",
       "      <td>gila</td>\n",
       "      <td>4007</td>\n",
       "      <td>53179</td>\n",
       "      <td>0</td>\n",
       "      <td>63.222325</td>\n",
       "      <td>0.552850</td>\n",
       "      <td>18.548675</td>\n",
       "      <td>4.249798</td>\n",
       "      <td>50.296170</td>\n",
       "      <td>...</td>\n",
       "      <td>26.397638</td>\n",
       "      <td>40593</td>\n",
       "      <td>12.129932</td>\n",
       "      <td>15.729958</td>\n",
       "      <td>82.262624</td>\n",
       "      <td>41.062000</td>\n",
       "      <td>2018</td>\n",
       "      <td>US Senator</td>\n",
       "      <td>7643.0</td>\n",
       "      <td>12180.0</td>\n",
       "    </tr>\n",
       "    <tr>\n",
       "      <th>4</th>\n",
       "      <td>AZ</td>\n",
       "      <td>graham</td>\n",
       "      <td>4009</td>\n",
       "      <td>37529</td>\n",
       "      <td>0</td>\n",
       "      <td>51.461536</td>\n",
       "      <td>1.811932</td>\n",
       "      <td>32.097844</td>\n",
       "      <td>4.385942</td>\n",
       "      <td>46.313518</td>\n",
       "      <td>...</td>\n",
       "      <td>12.315809</td>\n",
       "      <td>47422</td>\n",
       "      <td>14.424104</td>\n",
       "      <td>14.580797</td>\n",
       "      <td>86.675944</td>\n",
       "      <td>46.437399</td>\n",
       "      <td>2018</td>\n",
       "      <td>US Senator</td>\n",
       "      <td>3368.0</td>\n",
       "      <td>6870.0</td>\n",
       "    </tr>\n",
       "  </tbody>\n",
       "</table>\n",
       "<p>5 rows × 21 columns</p>\n",
       "</div>"
      ],
      "text/plain": [
       "  State    County  FIPS  Total Population  Citizen Voting-Age Population  \\\n",
       "0    AZ    apache  4001             72346                              0   \n",
       "1    AZ   cochise  4003            128177                          92915   \n",
       "2    AZ  coconino  4005            138064                         104265   \n",
       "3    AZ      gila  4007             53179                              0   \n",
       "4    AZ    graham  4009             37529                              0   \n",
       "\n",
       "   Percent White, not Hispanic or Latino  \\\n",
       "0                              18.571863   \n",
       "1                              56.299492   \n",
       "2                              54.619597   \n",
       "3                              63.222325   \n",
       "4                              51.461536   \n",
       "\n",
       "   Percent Black, not Hispanic or Latino  Percent Hispanic or Latino  \\\n",
       "0                               0.486551                    5.947806   \n",
       "1                               3.714395                   34.403208   \n",
       "2                               1.342855                   13.711033   \n",
       "3                               0.552850                   18.548675   \n",
       "4                               1.811932                   32.097844   \n",
       "\n",
       "   Percent Foreign Born  Percent Female  ...  Percent Age 65 and Older  \\\n",
       "0              1.719515       50.598513  ...                 13.322091   \n",
       "1             11.458374       49.069646  ...                 19.756275   \n",
       "2              4.825298       50.581614  ...                 10.873943   \n",
       "3              4.249798       50.296170  ...                 26.397638   \n",
       "4              4.385942       46.313518  ...                 12.315809   \n",
       "\n",
       "   Median Household Income  Percent Unemployed  \\\n",
       "0                    32460           15.807433   \n",
       "1                    45383            8.567108   \n",
       "2                    51106            8.238305   \n",
       "3                    40593           12.129932   \n",
       "4                    47422           14.424104   \n",
       "\n",
       "   Percent Less than High School Degree  Percent Less than Bachelor's Degree  \\\n",
       "0                             21.758252                            88.941063   \n",
       "1                             13.409171                            76.837055   \n",
       "2                             11.085381                            65.791439   \n",
       "3                             15.729958                            82.262624   \n",
       "4                             14.580797                            86.675944   \n",
       "\n",
       "   Percent Rural  Year      Office Democratic  Republican  \n",
       "0      74.061076  2018  US Senator    16298.0      7810.0  \n",
       "1      36.301067  2018  US Senator    17383.0     26929.0  \n",
       "2      31.466066  2018  US Senator    34240.0     19249.0  \n",
       "3      41.062000  2018  US Senator     7643.0     12180.0  \n",
       "4      46.437399  2018  US Senator     3368.0      6870.0  \n",
       "\n",
       "[5 rows x 21 columns]"
      ]
     },
     "execution_count": 13,
     "metadata": {},
     "output_type": "execute_result"
    }
   ],
   "source": [
    "merged_data.head()"
   ]
  },
  {
   "cell_type": "code",
   "execution_count": 14,
   "metadata": {},
   "outputs": [
    {
     "data": {
      "text/plain": [
       "(1200, 21)"
      ]
     },
     "execution_count": 14,
     "metadata": {},
     "output_type": "execute_result"
    }
   ],
   "source": [
    "merged_data.shape"
   ]
  },
  {
   "cell_type": "code",
   "execution_count": null,
   "metadata": {},
   "outputs": [],
   "source": []
  },
  {
   "cell_type": "code",
   "execution_count": null,
   "metadata": {},
   "outputs": [],
   "source": []
  },
  {
   "cell_type": "code",
   "execution_count": null,
   "metadata": {},
   "outputs": [],
   "source": []
  },
  {
   "cell_type": "code",
   "execution_count": null,
   "metadata": {},
   "outputs": [],
   "source": []
  },
  {
   "cell_type": "code",
   "execution_count": null,
   "metadata": {},
   "outputs": [],
   "source": []
  },
  {
   "cell_type": "code",
   "execution_count": null,
   "metadata": {},
   "outputs": [],
   "source": []
  },
  {
   "cell_type": "code",
   "execution_count": null,
   "metadata": {},
   "outputs": [],
   "source": []
  },
  {
   "cell_type": "code",
   "execution_count": null,
   "metadata": {},
   "outputs": [],
   "source": []
  },
  {
   "cell_type": "code",
   "execution_count": 15,
   "metadata": {},
   "outputs": [
    {
     "data": {
      "text/plain": [
       "State                                    0\n",
       "County                                   0\n",
       "FIPS                                     0\n",
       "Total Population                         0\n",
       "Citizen Voting-Age Population            0\n",
       "Percent White, not Hispanic or Latino    0\n",
       "Percent Black, not Hispanic or Latino    0\n",
       "Percent Hispanic or Latino               0\n",
       "Percent Foreign Born                     0\n",
       "Percent Female                           0\n",
       "Percent Age 29 and Under                 0\n",
       "Percent Age 65 and Older                 0\n",
       "Median Household Income                  0\n",
       "Percent Unemployed                       0\n",
       "Percent Less than High School Degree     0\n",
       "Percent Less than Bachelor's Degree      0\n",
       "Percent Rural                            0\n",
       "Year                                     0\n",
       "Office                                   0\n",
       "Democratic                               3\n",
       "Republican                               2\n",
       "dtype: int64"
      ]
     },
     "execution_count": 15,
     "metadata": {},
     "output_type": "execute_result"
    }
   ],
   "source": [
    "merged_data.isnull().sum()"
   ]
  },
  {
   "cell_type": "code",
   "execution_count": 16,
   "metadata": {},
   "outputs": [
    {
     "data": {
      "text/html": [
       "<div>\n",
       "<style scoped>\n",
       "    .dataframe tbody tr th:only-of-type {\n",
       "        vertical-align: middle;\n",
       "    }\n",
       "\n",
       "    .dataframe tbody tr th {\n",
       "        vertical-align: top;\n",
       "    }\n",
       "\n",
       "    .dataframe thead th {\n",
       "        text-align: right;\n",
       "    }\n",
       "</style>\n",
       "<table border=\"1\" class=\"dataframe\">\n",
       "  <thead>\n",
       "    <tr style=\"text-align: right;\">\n",
       "      <th></th>\n",
       "      <th>State</th>\n",
       "      <th>County</th>\n",
       "      <th>FIPS</th>\n",
       "      <th>Total Population</th>\n",
       "      <th>Citizen Voting-Age Population</th>\n",
       "      <th>Percent White, not Hispanic or Latino</th>\n",
       "      <th>Percent Black, not Hispanic or Latino</th>\n",
       "      <th>Percent Hispanic or Latino</th>\n",
       "      <th>Percent Foreign Born</th>\n",
       "      <th>Percent Female</th>\n",
       "      <th>...</th>\n",
       "      <th>Percent Age 65 and Older</th>\n",
       "      <th>Median Household Income</th>\n",
       "      <th>Percent Unemployed</th>\n",
       "      <th>Percent Less than High School Degree</th>\n",
       "      <th>Percent Less than Bachelor's Degree</th>\n",
       "      <th>Percent Rural</th>\n",
       "      <th>Year</th>\n",
       "      <th>Office</th>\n",
       "      <th>Democratic</th>\n",
       "      <th>Republican</th>\n",
       "    </tr>\n",
       "  </thead>\n",
       "  <tbody>\n",
       "    <tr>\n",
       "      <th>753</th>\n",
       "      <td>TX</td>\n",
       "      <td>bee</td>\n",
       "      <td>48025</td>\n",
       "      <td>32706</td>\n",
       "      <td>0</td>\n",
       "      <td>32.660674</td>\n",
       "      <td>7.989360</td>\n",
       "      <td>57.909864</td>\n",
       "      <td>4.344769</td>\n",
       "      <td>39.579894</td>\n",
       "      <td>...</td>\n",
       "      <td>11.514707</td>\n",
       "      <td>44005</td>\n",
       "      <td>6.065048</td>\n",
       "      <td>28.602944</td>\n",
       "      <td>91.094503</td>\n",
       "      <td>42.977308</td>\n",
       "      <td>2018</td>\n",
       "      <td>US Senator</td>\n",
       "      <td>2811.0</td>\n",
       "      <td>NaN</td>\n",
       "    </tr>\n",
       "    <tr>\n",
       "      <th>1119</th>\n",
       "      <td>WI</td>\n",
       "      <td>lafayette</td>\n",
       "      <td>55065</td>\n",
       "      <td>16793</td>\n",
       "      <td>0</td>\n",
       "      <td>94.771631</td>\n",
       "      <td>0.339427</td>\n",
       "      <td>3.507414</td>\n",
       "      <td>2.286667</td>\n",
       "      <td>49.199071</td>\n",
       "      <td>...</td>\n",
       "      <td>16.709343</td>\n",
       "      <td>53038</td>\n",
       "      <td>2.998885</td>\n",
       "      <td>10.123457</td>\n",
       "      <td>82.336861</td>\n",
       "      <td>100.000000</td>\n",
       "      <td>2018</td>\n",
       "      <td>US Senator</td>\n",
       "      <td>3592.0</td>\n",
       "      <td>NaN</td>\n",
       "    </tr>\n",
       "  </tbody>\n",
       "</table>\n",
       "<p>2 rows × 21 columns</p>\n",
       "</div>"
      ],
      "text/plain": [
       "     State     County   FIPS  Total Population  Citizen Voting-Age Population  \\\n",
       "753     TX        bee  48025             32706                              0   \n",
       "1119    WI  lafayette  55065             16793                              0   \n",
       "\n",
       "      Percent White, not Hispanic or Latino  \\\n",
       "753                               32.660674   \n",
       "1119                              94.771631   \n",
       "\n",
       "      Percent Black, not Hispanic or Latino  Percent Hispanic or Latino  \\\n",
       "753                                7.989360                   57.909864   \n",
       "1119                               0.339427                    3.507414   \n",
       "\n",
       "      Percent Foreign Born  Percent Female  ...  Percent Age 65 and Older  \\\n",
       "753               4.344769       39.579894  ...                 11.514707   \n",
       "1119              2.286667       49.199071  ...                 16.709343   \n",
       "\n",
       "      Median Household Income  Percent Unemployed  \\\n",
       "753                     44005            6.065048   \n",
       "1119                    53038            2.998885   \n",
       "\n",
       "      Percent Less than High School Degree  \\\n",
       "753                              28.602944   \n",
       "1119                             10.123457   \n",
       "\n",
       "      Percent Less than Bachelor's Degree  Percent Rural  Year      Office  \\\n",
       "753                             91.094503      42.977308  2018  US Senator   \n",
       "1119                            82.336861     100.000000  2018  US Senator   \n",
       "\n",
       "     Democratic  Republican  \n",
       "753      2811.0         NaN  \n",
       "1119     3592.0         NaN  \n",
       "\n",
       "[2 rows x 21 columns]"
      ]
     },
     "execution_count": 16,
     "metadata": {},
     "output_type": "execute_result"
    }
   ],
   "source": [
    "bool1 = pd.isnull(merged_data['Republican'])\n",
    "merged_data[bool1]"
   ]
  },
  {
   "cell_type": "code",
   "execution_count": 17,
   "metadata": {},
   "outputs": [
    {
     "data": {
      "text/html": [
       "<div>\n",
       "<style scoped>\n",
       "    .dataframe tbody tr th:only-of-type {\n",
       "        vertical-align: middle;\n",
       "    }\n",
       "\n",
       "    .dataframe tbody tr th {\n",
       "        vertical-align: top;\n",
       "    }\n",
       "\n",
       "    .dataframe thead th {\n",
       "        text-align: right;\n",
       "    }\n",
       "</style>\n",
       "<table border=\"1\" class=\"dataframe\">\n",
       "  <thead>\n",
       "    <tr style=\"text-align: right;\">\n",
       "      <th></th>\n",
       "      <th>State</th>\n",
       "      <th>County</th>\n",
       "      <th>FIPS</th>\n",
       "      <th>Total Population</th>\n",
       "      <th>Citizen Voting-Age Population</th>\n",
       "      <th>Percent White, not Hispanic or Latino</th>\n",
       "      <th>Percent Black, not Hispanic or Latino</th>\n",
       "      <th>Percent Hispanic or Latino</th>\n",
       "      <th>Percent Foreign Born</th>\n",
       "      <th>Percent Female</th>\n",
       "      <th>...</th>\n",
       "      <th>Percent Age 65 and Older</th>\n",
       "      <th>Median Household Income</th>\n",
       "      <th>Percent Unemployed</th>\n",
       "      <th>Percent Less than High School Degree</th>\n",
       "      <th>Percent Less than Bachelor's Degree</th>\n",
       "      <th>Percent Rural</th>\n",
       "      <th>Year</th>\n",
       "      <th>Office</th>\n",
       "      <th>Democratic</th>\n",
       "      <th>Republican</th>\n",
       "    </tr>\n",
       "  </thead>\n",
       "  <tbody>\n",
       "    <tr>\n",
       "      <th>425</th>\n",
       "      <td>NE</td>\n",
       "      <td>lancaster</td>\n",
       "      <td>31109</td>\n",
       "      <td>301707</td>\n",
       "      <td>0</td>\n",
       "      <td>82.659667</td>\n",
       "      <td>3.783472</td>\n",
       "      <td>6.531834</td>\n",
       "      <td>7.523856</td>\n",
       "      <td>49.891782</td>\n",
       "      <td>...</td>\n",
       "      <td>12.175057</td>\n",
       "      <td>53730</td>\n",
       "      <td>4.372984</td>\n",
       "      <td>6.636272</td>\n",
       "      <td>62.697684</td>\n",
       "      <td>8.253126</td>\n",
       "      <td>2018</td>\n",
       "      <td>US Senator</td>\n",
       "      <td>NaN</td>\n",
       "      <td>49449.0</td>\n",
       "    </tr>\n",
       "    <tr>\n",
       "      <th>716</th>\n",
       "      <td>TN</td>\n",
       "      <td>meigs</td>\n",
       "      <td>47121</td>\n",
       "      <td>11804</td>\n",
       "      <td>0</td>\n",
       "      <td>94.713656</td>\n",
       "      <td>1.330058</td>\n",
       "      <td>1.465605</td>\n",
       "      <td>1.067435</td>\n",
       "      <td>50.626906</td>\n",
       "      <td>...</td>\n",
       "      <td>19.662826</td>\n",
       "      <td>35209</td>\n",
       "      <td>12.544170</td>\n",
       "      <td>21.141176</td>\n",
       "      <td>91.176471</td>\n",
       "      <td>100.000000</td>\n",
       "      <td>2018</td>\n",
       "      <td>US Senator</td>\n",
       "      <td>NaN</td>\n",
       "      <td>2694.0</td>\n",
       "    </tr>\n",
       "    <tr>\n",
       "      <th>869</th>\n",
       "      <td>TX</td>\n",
       "      <td>menard</td>\n",
       "      <td>48327</td>\n",
       "      <td>2163</td>\n",
       "      <td>0</td>\n",
       "      <td>56.310680</td>\n",
       "      <td>1.248266</td>\n",
       "      <td>39.389736</td>\n",
       "      <td>4.299584</td>\n",
       "      <td>46.833102</td>\n",
       "      <td>...</td>\n",
       "      <td>22.468793</td>\n",
       "      <td>37917</td>\n",
       "      <td>8.360836</td>\n",
       "      <td>21.113990</td>\n",
       "      <td>84.909326</td>\n",
       "      <td>100.000000</td>\n",
       "      <td>2018</td>\n",
       "      <td>US Senator</td>\n",
       "      <td>NaN</td>\n",
       "      <td>632.0</td>\n",
       "    </tr>\n",
       "  </tbody>\n",
       "</table>\n",
       "<p>3 rows × 21 columns</p>\n",
       "</div>"
      ],
      "text/plain": [
       "    State     County   FIPS  Total Population  Citizen Voting-Age Population  \\\n",
       "425    NE  lancaster  31109            301707                              0   \n",
       "716    TN      meigs  47121             11804                              0   \n",
       "869    TX     menard  48327              2163                              0   \n",
       "\n",
       "     Percent White, not Hispanic or Latino  \\\n",
       "425                              82.659667   \n",
       "716                              94.713656   \n",
       "869                              56.310680   \n",
       "\n",
       "     Percent Black, not Hispanic or Latino  Percent Hispanic or Latino  \\\n",
       "425                               3.783472                    6.531834   \n",
       "716                               1.330058                    1.465605   \n",
       "869                               1.248266                   39.389736   \n",
       "\n",
       "     Percent Foreign Born  Percent Female  ...  Percent Age 65 and Older  \\\n",
       "425              7.523856       49.891782  ...                 12.175057   \n",
       "716              1.067435       50.626906  ...                 19.662826   \n",
       "869              4.299584       46.833102  ...                 22.468793   \n",
       "\n",
       "     Median Household Income  Percent Unemployed  \\\n",
       "425                    53730            4.372984   \n",
       "716                    35209           12.544170   \n",
       "869                    37917            8.360836   \n",
       "\n",
       "     Percent Less than High School Degree  \\\n",
       "425                              6.636272   \n",
       "716                             21.141176   \n",
       "869                             21.113990   \n",
       "\n",
       "     Percent Less than Bachelor's Degree  Percent Rural  Year      Office  \\\n",
       "425                            62.697684       8.253126  2018  US Senator   \n",
       "716                            91.176471     100.000000  2018  US Senator   \n",
       "869                            84.909326     100.000000  2018  US Senator   \n",
       "\n",
       "    Democratic  Republican  \n",
       "425        NaN     49449.0  \n",
       "716        NaN      2694.0  \n",
       "869        NaN       632.0  \n",
       "\n",
       "[3 rows x 21 columns]"
      ]
     },
     "execution_count": 17,
     "metadata": {},
     "output_type": "execute_result"
    }
   ],
   "source": [
    "bool2 = pd.isnull(merged_data['Democratic'])\n",
    "merged_data[bool2]"
   ]
  },
  {
   "cell_type": "code",
   "execution_count": 16,
   "metadata": {},
   "outputs": [
    {
     "data": {
      "text/plain": [
       "State                                     object\n",
       "County                                    object\n",
       "FIPS                                       int64\n",
       "Total Population                           int64\n",
       "Citizen Voting-Age Population              int64\n",
       "Percent White, not Hispanic or Latino    float64\n",
       "Percent Black, not Hispanic or Latino    float64\n",
       "Percent Hispanic or Latino               float64\n",
       "Percent Foreign Born                     float64\n",
       "Percent Female                           float64\n",
       "Percent Age 29 and Under                 float64\n",
       "Percent Age 65 and Older                 float64\n",
       "Median Household Income                    int64\n",
       "Percent Unemployed                       float64\n",
       "Percent Less than High School Degree     float64\n",
       "Percent Less than Bachelor's Degree      float64\n",
       "Percent Rural                            float64\n",
       "Year                                       int64\n",
       "Office                                    object\n",
       "Democratic                               float64\n",
       "Republican                               float64\n",
       "dtype: object"
      ]
     },
     "execution_count": 16,
     "metadata": {},
     "output_type": "execute_result"
    }
   ],
   "source": [
    "merged_data.dtypes"
   ]
  },
  {
   "cell_type": "markdown",
   "metadata": {},
   "source": [
    "**Question 3:**\n",
    "**There are 21 variables and the data types of the all the variables are:\n",
    "State                                     object\n",
    "County                                    object\n",
    "FIPS                                       int64\n",
    "Total Population                           int64\n",
    "Citizen Voting-Age Population              int64\n",
    "Percent White, not Hispanic or Latino    float64\n",
    "Percent Black, not Hispanic or Latino    float64\n",
    "Percent Hispanic or Latino               float64\n",
    "Percent Foreign Born                     float64\n",
    "Percent Female                           float64\n",
    "Percent Age 29 and Under                 float64\n",
    "Percent Age 65 and Older                 float64\n",
    "Median Household Income                    int64\n",
    "Percent Unemployed                       float64\n",
    "Percent Less than High School Degree     float64\n",
    "Percent Less than Bachelor's Degree      float64\n",
    "Percent Rural                            float64\n",
    "Year                                       int64\n",
    "Office                                    object\n",
    "Democratic                               float64\n",
    "Republican                               float64\n",
    "**\n",
    "** Reduntant Variables:  **"
   ]
  },
  {
   "cell_type": "code",
   "execution_count": 23,
   "metadata": {
    "scrolled": true
   },
   "outputs": [
    {
     "data": {
      "text/plain": [
       "State                                    0\n",
       "County                                   0\n",
       "FIPS                                     0\n",
       "Total Population                         0\n",
       "Citizen Voting-Age Population            0\n",
       "Percent White, not Hispanic or Latino    0\n",
       "Percent Black, not Hispanic or Latino    0\n",
       "Percent Hispanic or Latino               0\n",
       "Percent Foreign Born                     0\n",
       "Percent Female                           0\n",
       "Percent Age 29 and Under                 0\n",
       "Percent Age 65 and Older                 0\n",
       "Median Household Income                  0\n",
       "Percent Unemployed                       0\n",
       "Percent Less than High School Degree     0\n",
       "Percent Less than Bachelor's Degree      0\n",
       "Percent Rural                            0\n",
       "Year                                     0\n",
       "Office                                   0\n",
       "Democratic                               3\n",
       "Republican                               2\n",
       "dtype: int64"
      ]
     },
     "execution_count": 23,
     "metadata": {},
     "output_type": "execute_result"
    }
   ],
   "source": [
    "merged_data.isnull().sum()"
   ]
  },
  {
   "cell_type": "markdown",
   "metadata": {},
   "source": [
    "**Question 4: There are 5 missing values 3 from democratic and 2 from republican. We can ignore the missing values **"
   ]
  },
  {
   "cell_type": "code",
   "execution_count": 30,
   "metadata": {},
   "outputs": [],
   "source": [
    "merged_data.loc[merged_data['Democratic'] > merged_data['Republican'], 'Party'] = 1 \n",
    "merged_data.loc[merged_data['Republican'] > merged_data['Democratic'], 'Party'] = 0 "
   ]
  },
  {
   "cell_type": "code",
   "execution_count": 32,
   "metadata": {},
   "outputs": [
    {
     "name": "stdout",
     "output_type": "stream",
     "text": [
      "0       1.0\n",
      "1       0.0\n",
      "2       1.0\n",
      "3       0.0\n",
      "4       0.0\n",
      "       ... \n",
      "1200    0.0\n",
      "1201    0.0\n",
      "1202    0.0\n",
      "1203    0.0\n",
      "1204    0.0\n",
      "Name: Party, Length: 1200, dtype: float64\n"
     ]
    }
   ],
   "source": [
    "print(merged_data['Party'])"
   ]
  },
  {
   "cell_type": "code",
   "execution_count": 33,
   "metadata": {},
   "outputs": [],
   "source": [
    "mean_household_democratic = merged_data['Median Household Income'].mean()"
   ]
  },
  {
   "cell_type": "code",
   "execution_count": 34,
   "metadata": {},
   "outputs": [
    {
     "name": "stdout",
     "output_type": "stream",
     "text": [
      "50098.51666666667\n"
     ]
    }
   ],
   "source": [
    "print(mean_household)"
   ]
  },
  {
   "cell_type": "code",
   "execution_count": 37,
   "metadata": {},
   "outputs": [],
   "source": [
    "median_household = merged_data['Median Household Income'].median()"
   ]
  },
  {
   "cell_type": "code",
   "execution_count": 38,
   "metadata": {},
   "outputs": [
    {
     "name": "stdout",
     "output_type": "stream",
     "text": [
      "48391.0\n"
     ]
    }
   ],
   "source": [
    "print(median_household)"
   ]
  },
  {
   "cell_type": "code",
   "execution_count": null,
   "metadata": {},
   "outputs": [],
   "source": []
  }
 ],
 "metadata": {
  "kernelspec": {
   "display_name": "Python 3",
   "language": "python",
   "name": "python3"
  },
  "language_info": {
   "codemirror_mode": {
    "name": "ipython",
    "version": 3
   },
   "file_extension": ".py",
   "mimetype": "text/x-python",
   "name": "python",
   "nbconvert_exporter": "python",
   "pygments_lexer": "ipython3",
   "version": "3.8.3"
  }
 },
 "nbformat": 4,
 "nbformat_minor": 4
}
